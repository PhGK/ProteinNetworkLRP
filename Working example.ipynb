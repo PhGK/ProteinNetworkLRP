{
 "cells": [
  {
   "cell_type": "code",
   "execution_count": null,
   "metadata": {},
   "outputs": [],
   "source": [
    "import numpy as np \n",
    "import pandas as pd"
   ]
  },
  {
   "cell_type": "code",
   "execution_count": null,
   "metadata": {},
   "outputs": [],
   "source": [
    "# create data for bipartite network\n",
    "\n",
    "data = np.random.normal(0,1, (2000,16))\n",
    "data2 = np.sin(data)\n",
    "data_frame = pd.DataFrame(np.concatenate((data, data2), axis=1))\n",
    "train_data = data_frame.iloc[:1000,:]\n",
    "test_data = data_frame.iloc[1000:,:]\n"
   ]
  },
  {
   "cell_type": "code",
   "execution_count": null,
   "metadata": {},
   "outputs": [],
   "source": [
    "#build model instance, input dimensions need to be 2 times the number of features\n",
    "from LRPclass_precise import LRP\n",
    "model = LRP(2*train_data.shape[1], train_data.shape[1],32,2)\n"
   ]
  },
  {
   "cell_type": "code",
   "execution_count": null,
   "metadata": {},
   "outputs": [],
   "source": [
    "#train model on train data\n",
    "model.train(train_data, test_data,epochs=15, lr = 0.05, batch_size = 15)"
   ]
  },
  {
   "cell_type": "code",
   "execution_count": null,
   "metadata": {},
   "outputs": [],
   "source": [
    "# compute network for first sample of test data\n",
    "import os \n",
    "import torch as tc\n",
    "RESULTPATH = './results/mynetwork/'\n",
    "sample_id = 0\n",
    "model.compute_network(test_data, sample_name = test_data.index[sample_id], sample_id = sample_id, result_path = RESULTPATH, device = tc.device('cpu'))"
   ]
  },
  {
   "cell_type": "code",
   "execution_count": null,
   "metadata": {},
   "outputs": [],
   "source": []
  },
  {
   "cell_type": "code",
   "execution_count": null,
   "metadata": {},
   "outputs": [],
   "source": []
  }
 ],
 "metadata": {
  "kernelspec": {
   "display_name": "Python 3",
   "language": "python",
   "name": "python3"
  },
  "language_info": {
   "codemirror_mode": {
    "name": "ipython",
    "version": 3
   },
   "file_extension": ".py",
   "mimetype": "text/x-python",
   "name": "python",
   "nbconvert_exporter": "python",
   "pygments_lexer": "ipython3",
   "version": "3.6.9"
  }
 },
 "nbformat": 4,
 "nbformat_minor": 4
}
