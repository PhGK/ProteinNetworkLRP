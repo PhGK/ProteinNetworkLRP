{
 "cells": [
  {
   "cell_type": "code",
   "execution_count": null,
   "metadata": {},
   "outputs": [],
   "source": [
    "import matplotlib.pyplot as plt\n",
    "from mpl_toolkits.axes_grid1 import ImageGrid\n",
    "import numpy as np\n",
    "import matplotlib.image as mpimg\n",
    "from PIL import Image, ImageDraw\n",
    "from scipy import misc\n",
    "import glob\n",
    "import imageio\n",
    "import os"
   ]
  },
  {
   "cell_type": "code",
   "execution_count": null,
   "metadata": {},
   "outputs": [],
   "source": [
    "PATH = './figures/temp/cluster_'\n",
    "tsne = Image.open('./figures/interaction_tsne_numbered.png')\n",
    "images = [Image.open(PATH+ str(i)+'.png') for i in range(1,16)]\n",
    "#images = [tsne] + images\n",
    "#images[0]= images[0].resize((images[1].height, images[1].height))\n",
    "selected_images = [1,2,3,4,5,6,9,10]  #\n",
    "images = [images[i] for i in selected_images]"
   ]
  },
  {
   "cell_type": "code",
   "execution_count": null,
   "metadata": {},
   "outputs": [],
   "source": [
    "def get_concat_v(im1, im2):\n",
    "    dst = Image.new('RGB', (im1.width, im1.height + im2.height))\n",
    "    dst.paste(im1, (0, 0))\n",
    "    dst.paste(im2, (0, im1.height))\n",
    "    return dst\n",
    "\n",
    "def get_concat_h(im1, im2):\n",
    "    dst = Image.new('RGB', (im1.width + im2.width, im2.height))\n",
    "    dst.paste(im1, (0, 0))\n",
    "    dst.paste(im2, (im1.width,0))\n",
    "    return dst\n",
    "\n",
    "def var_get_concat_h(im1, im2):\n",
    "    dst = Image.new('RGB', (2*im2.width, im2.height))\n",
    "    dst.paste(im1.resize((im2.width, im2.height)), (0, 0))\n",
    "    dst.paste(im2, (im2.width,0))\n",
    "    return dst\n",
    "\n",
    "def var_get_concat_v(im1, im2):\n",
    "    dst = Image.new('RGB', (im2.width, 3* im2.height))\n",
    "    dst.paste(im1.resize((im2.width, 2*im2.height)), (0, 0))\n",
    "    dst.paste(im2, (0,2*im2.height))\n",
    "    return dst"
   ]
  },
  {
   "cell_type": "code",
   "execution_count": null,
   "metadata": {},
   "outputs": [],
   "source": [
    "def get_rows(images, nrows, ncols):\n",
    "    rows = []\n",
    "    for i in range(nrows):\n",
    "        im1 = images[i*ncols]\n",
    "        for j in range(1,ncols):\n",
    "            im1 = get_concat_h(im1, images[j+i*ncols])\n",
    "        rows.append(im1)\n",
    "    return rows\n",
    "            "
   ]
  },
  {
   "cell_type": "code",
   "execution_count": null,
   "metadata": {},
   "outputs": [],
   "source": [
    "def get_cols(row_list, nrows, ncols):\n",
    "    row1 = row_list[0]\n",
    "    for i in range(1,nrows):\n",
    "        row1 = get_concat_v(row1, row_list[i])\n",
    "    return row1"
   ]
  },
  {
   "cell_type": "code",
   "execution_count": null,
   "metadata": {},
   "outputs": [],
   "source": [
    "def get_image(nrows, ncols):\n",
    "    row_list = get_rows(images[:12], nrows, ncols)\n",
    "    end = get_cols(row_list,nrows,ncols)\n",
    "    return end\n",
    "\n",
    "def get_image_tsne():\n",
    "    \n",
    "    second_col = get_concat_v(images[0], images[2])\n",
    "    third_col = get_concat_v(images[1], images[3])\n",
    "    last_col = get_concat_h(second_col, third_col)\n",
    "    second_row = get_concat_h(get_concat_h(get_concat_h(images[4], images[5]), images[6]), images[7])\n",
    "    first_row = var_get_concat_h(tsne, last_col)\n",
    "    clusters = get_concat_v(first_row, second_row)\n",
    "    \n",
    "    return clusters"
   ]
  },
  {
   "cell_type": "code",
   "execution_count": null,
   "metadata": {},
   "outputs": [],
   "source": [
    "img1 = get_image_tsne()"
   ]
  },
  {
   "cell_type": "code",
   "execution_count": null,
   "metadata": {
    "scrolled": false
   },
   "outputs": [],
   "source": [
    "img1"
   ]
  },
  {
   "cell_type": "code",
   "execution_count": null,
   "metadata": {},
   "outputs": [],
   "source": [
    "img1.save(\"./figures/embedded_Clusters2.pdf\", format=\"pdf\")"
   ]
  },
  {
   "cell_type": "code",
   "execution_count": null,
   "metadata": {},
   "outputs": [],
   "source": [
    "###"
   ]
  },
  {
   "cell_type": "code",
   "execution_count": null,
   "metadata": {},
   "outputs": [],
   "source": [
    "# average_plot"
   ]
  },
  {
   "cell_type": "code",
   "execution_count": null,
   "metadata": {},
   "outputs": [],
   "source": [
    "PATH = './figures/temp/average_ID_'\n",
    "#tsne = Image.open('/mnt/scratch2/mlprot/mlprot_220920/plots_statistics/figures/interaction_tsne_numbered.png')\n",
    "images = [Image.open(PATH+ str(i)+'.png') for i in range(1,17)]\n",
    "#images = [tsne] + images\n",
    "#images[0]= images[0].resize((images[1].height, images[1].height))\n",
    "images = [images[i] for i in selected_images]"
   ]
  },
  {
   "cell_type": "code",
   "execution_count": null,
   "metadata": {},
   "outputs": [],
   "source": [
    "ol =1\n",
    "def get_concat_v(im1, im2):\n",
    "    dst = Image.new('RGB', (im1.width, im1.height + int(ol*im2.height)))\n",
    "    dst.paste(im1, (0, 0))\n",
    "    dst.paste(im2, (0, int(ol*im1.height))) # overlap if >1\n",
    "    return dst\n",
    "\n",
    "def get_concat_h(im1, im2):\n",
    "    dst = Image.new('RGB', (im1.width + im2.width, im2.height))\n",
    "    dst.paste(im1, (0, 0))\n",
    "    dst.paste(im2, (im1.width,0))\n",
    "    return dst"
   ]
  },
  {
   "cell_type": "code",
   "execution_count": null,
   "metadata": {},
   "outputs": [],
   "source": [
    "def get_rows(images, nrows, ncols):\n",
    "    rows = []\n",
    "    for i in range(nrows):\n",
    "        im1 = images[i*ncols]\n",
    "        for j in range(1,ncols):\n",
    "            im1 = get_concat_h(im1, images[j+i*ncols])\n",
    "        rows.append(im1)\n",
    "    return rows"
   ]
  },
  {
   "cell_type": "code",
   "execution_count": null,
   "metadata": {},
   "outputs": [],
   "source": [
    "def get_cols(row_list, nrows, ncols):\n",
    "    row1 = row_list[0]\n",
    "    for i in range(1,nrows):\n",
    "        row1 = get_concat_v(row1, row_list[i])\n",
    "    return row1"
   ]
  },
  {
   "cell_type": "code",
   "execution_count": null,
   "metadata": {},
   "outputs": [],
   "source": [
    "def get_image(nrows, ncols):\n",
    "    row_list = get_rows(images[:8], nrows, ncols)\n",
    "    end = get_cols(row_list,nrows,ncols)\n",
    "    return end\n"
   ]
  },
  {
   "cell_type": "code",
   "execution_count": null,
   "metadata": {},
   "outputs": [],
   "source": [
    "img2 = get_image(2,4)"
   ]
  },
  {
   "cell_type": "code",
   "execution_count": null,
   "metadata": {},
   "outputs": [],
   "source": [
    "img2"
   ]
  },
  {
   "cell_type": "code",
   "execution_count": null,
   "metadata": {},
   "outputs": [],
   "source": [
    "img2.save(\"./figures/embedded_average_Clusters3.pdf\", format=\"pdf\")"
   ]
  },
  {
   "cell_type": "code",
   "execution_count": null,
   "metadata": {},
   "outputs": [],
   "source": [
    "combined_image = get_concat_v(img1,img2)"
   ]
  },
  {
   "cell_type": "code",
   "execution_count": null,
   "metadata": {
    "scrolled": true
   },
   "outputs": [],
   "source": [
    "combined_image"
   ]
  },
  {
   "cell_type": "code",
   "execution_count": null,
   "metadata": {},
   "outputs": [],
   "source": [
    "combined_image.save(\"./figures/figure_2_Revision.pdf\", format=\"pdf\")"
   ]
  },
  {
   "cell_type": "code",
   "execution_count": null,
   "metadata": {},
   "outputs": [],
   "source": [
    "ratio = combined_image.size[0]/combined_image.size[1]\n",
    "combined_image_resized = combined_image.resize((combined_image.size[0]//2, combined_image.size[1]//2))"
   ]
  },
  {
   "cell_type": "code",
   "execution_count": null,
   "metadata": {},
   "outputs": [],
   "source": [
    "figpath = \"./figures/Figure_2_Revision.pdf\"\n",
    "combined_image_resized.save(figpath, format=\"pdf\")"
   ]
  },
  {
   "cell_type": "code",
   "execution_count": null,
   "metadata": {},
   "outputs": [],
   "source": []
  },
  {
   "cell_type": "code",
   "execution_count": null,
   "metadata": {},
   "outputs": [],
   "source": []
  },
  {
   "cell_type": "code",
   "execution_count": null,
   "metadata": {},
   "outputs": [],
   "source": []
  },
  {
   "cell_type": "code",
   "execution_count": null,
   "metadata": {},
   "outputs": [],
   "source": []
  }
 ],
 "metadata": {
  "kernelspec": {
   "display_name": "Python 3",
   "language": "python",
   "name": "python3"
  },
  "language_info": {
   "codemirror_mode": {
    "name": "ipython",
    "version": 3
   },
   "file_extension": ".py",
   "mimetype": "text/x-python",
   "name": "python",
   "nbconvert_exporter": "python",
   "pygments_lexer": "ipython3",
   "version": "3.6.9"
  }
 },
 "nbformat": 4,
 "nbformat_minor": 4
}
